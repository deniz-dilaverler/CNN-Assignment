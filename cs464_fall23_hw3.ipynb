{
  "cells": [
    {
      "cell_type": "markdown",
      "metadata": {
        "id": "YmlJ7FFJGA3k"
      },
      "source": [
        "**<h5></h5>**\n",
        "**<h1><center>CS 464</center></h1>**\n",
        "**<h1><center>Introduction to Machine Learning</center></h1>**\n",
        "**<h1><center>Fall 2023</center></h1>**\n",
        "**<h1><center>Homework 3</center></h1>**\n",
        "<h4><center>Due: December 29, 2023 23:59 (GMT+3)</center></h4>"
      ]
    },
    {
      "cell_type": "markdown",
      "metadata": {
        "id": "kUQigqxM4JlE"
      },
      "source": [
        "## **CIFAR-100 Inpainting**"
      ]
    },
    {
      "cell_type": "markdown",
      "metadata": {
        "id": "4JLXD3sTR8Yv"
      },
      "source": [
        "### **Homework Description**"
      ]
    },
    {
      "cell_type": "markdown",
      "metadata": {
        "id": "EFNaqLRzD75v"
      },
      "source": [
        "In this assignment, you are asked to design and train a convolutional neural network model for the image inpainting task. In short, inpainting is a process of filling in the missing parts of an image. You will be applying this task on the preprocessed CIFAR-100 dataset, which is created for this homework by processing the original [CIFAR-100](https://www.cs.toronto.edu/~kriz/cifar.html?ref=assemblyai.com) images. It contains RGB real-life images with the size of 28x28 pixel resolution. You can see a subset of the dataset below. The download link of the dataset is provided in the following parts.\n",
        "\n",
        "![CIFAR-100 Samples](https://drive.google.com/uc?export=view&id=1drp11GJ3QnRivkYLR0nh9RVOi9lnIh8o)\n",
        "\n",
        "**Using PyTorch is mandatory** for this assignment. You are requested to **submit only a single *.ipynb file** in your submissions (no report needed). If you want to provide further explanations about your work, you can add Markdown cells for this purpose. From [this link](https://www.markdownguide.org/), you can get familiar with the Markdown syntax if you need. Upload your homework with the following filename convention: **\\<BilkentID\\>\\_\\<Name\\>\\_\\<Surname\\>.ipynb**\n",
        "\n",
        "Note that this assignment needs a CUDA-enabled GPU to be able to train the models in a reasonable time. If you do not have one, it is suggested to use the [Colab](https://colab.research.google.com/) environment.\n",
        "\n",
        "**Contact:** [Ahmet Burak Yıldırım](mailto:a.yildirim@bilkent.edu.tr)"
      ]
    },
    {
      "cell_type": "markdown",
      "metadata": {
        "id": "rMvuukCeSkRE"
      },
      "source": [
        "### **Importing the Libraries**"
      ]
    },
    {
      "cell_type": "markdown",
      "metadata": {
        "id": "bcipuzDyJyMT"
      },
      "source": [
        "In the cell below,  some utilities that you can make use of in this assignment are imported. You can edit these imports considering your implementation as long as you use PyTorch."
      ]
    },
    {
      "cell_type": "code",
      "execution_count": 2,
      "metadata": {
        "id": "7v0OO4-6SmNV"
      },
      "outputs": [],
      "source": [
        "import torch\n",
        "from torch import nn, optim\n",
        "from torch.utils.data import DataLoader, Dataset\n",
        "import torchvision\n",
        "from torchvision import transforms\n",
        "from PIL import Image\n",
        "from tqdm import tqdm\n",
        "import matplotlib.pyplot as plt\n",
        "import seaborn as sns\n",
        "import numpy as np\n",
        "import random\n",
        "import os"
      ]
    },
    {
      "cell_type": "markdown",
      "metadata": {
        "id": "vLoc5OoAKDtr"
      },
      "source": [
        "### **Environment Check**"
      ]
    },
    {
      "cell_type": "markdown",
      "metadata": {
        "id": "KfGyOffcKG7u"
      },
      "source": [
        "In the cell below, you can test whether hardware acceleration with GPU is enabled in your machine or not. If it is enabled, the printed device should be 'cuda'."
      ]
    },
    {
      "cell_type": "code",
      "execution_count": 3,
      "metadata": {
        "id": "KaTYscuOLbjc"
      },
      "outputs": [
        {
          "name": "stdout",
          "output_type": "stream",
          "text": [
            "Current device: cpu\n"
          ]
        }
      ],
      "source": [
        "device = torch.device('cuda' if torch.cuda.is_available() else 'cpu')\n",
        "print('Current device:', device)\n",
        "\n",
        "if device.type == 'cuda':\n",
        "    print('GPU Name:', torch.cuda.get_device_name(0))\n",
        "    print('Total GPU Memory:', round(torch.cuda.get_device_properties(0).total_memory/1024**3,1), 'GB')"
      ]
    },
    {
      "cell_type": "markdown",
      "metadata": {
        "id": "BBK2IftRSvHf"
      },
      "source": [
        "### **Setting Library Seeds for Reproducibility**"
      ]
    },
    {
      "cell_type": "markdown",
      "metadata": {
        "id": "cOZICZTbMc2-"
      },
      "source": [
        "**DO NOT CHANGE**<br>\n",
        "To make a fair evaluation, the seed values are set for random sampling methods in PyTorch, NumPy, and Python random library. Please do not change these values."
      ]
    },
    {
      "cell_type": "code",
      "execution_count": 4,
      "metadata": {
        "id": "3M5lcMwQStjy"
      },
      "outputs": [],
      "source": [
        "def seed_everything(seed):\n",
        "    random.seed(seed)\n",
        "    np.random.seed(seed)\n",
        "    torch.manual_seed(seed)\n",
        "    torch.cuda.manual_seed(seed)\n",
        "    torch.backends.cudnn.deterministic = True"
      ]
    },
    {
      "cell_type": "code",
      "execution_count": 5,
      "metadata": {
        "id": "DJ1GUeFfSzN_"
      },
      "outputs": [],
      "source": [
        "seed_everything(464)"
      ]
    },
    {
      "cell_type": "markdown",
      "metadata": {
        "id": "h60dtOt5R_aE"
      },
      "source": [
        "### **Preparing the Dataset**"
      ]
    },
    {
      "cell_type": "markdown",
      "metadata": {
        "id": "Dzcz2jwcNKfK"
      },
      "source": [
        "The CIFAR-100 dataset is downloadable from [this link](https://drive.google.com/file/d/1KiymtjUjuEJjUTO_qB9ifpLC_UvJEhoL/view?usp=share_link). If you are using Colab or a Linux machine, you can uncomment and run the below cell to download and extract the dataset automatically."
      ]
    },
    {
      "cell_type": "code",
      "execution_count": null,
      "metadata": {
        "id": "85HQtprVSD3p"
      },
      "outputs": [],
      "source": [
        "# import gdown # Library to download files from Google Drive\n",
        "# !gdown 1KiymtjUjuEJjUTO_qB9ifpLC_UvJEhoL # Google Drive ID of the zip file to be downloaded\n",
        "# !unzip -oq cifar100.zip # Unzip the file downloaded. Options -o and -q overwrites the files if exists already and disables printing out the extracted files, respectively."
      ]
    },
    {
      "cell_type": "markdown",
      "metadata": {
        "id": "ZhEiiIYxTBi9"
      },
      "source": [
        "### **Implementing a Custom Dataset [25 Points]**"
      ]
    },
    {
      "cell_type": "markdown",
      "metadata": {
        "id": "zGpUjWbWOBpJ"
      },
      "source": [
        "In this part, you are requested to implement a custom PyTorch dataset class that reads CIFAR-100 images from a dataset split folder. There are two split folders called train and test in the dataset. The model class should take the root directory of a split in the \\_\\_init\\_\\_ function and read the images accordingly. Before returning the requested images, you should apply the following steps:\n",
        "\n",
        "* Apply bicubic interpolation using PIL to resize the images from (28,28) to (32,32) resolution.\n",
        "* Convert images to Tensor object\n",
        "* Normalize tensor values to scale them in the range of (-1,1)\n",
        "\n",
        "Note that reading images in the \\_\\_getitem\\_\\_ function makes the training process slow for this dataset because reading such small-sized images as a batch is slower than the forward pass process of a simple neural network. Therefore, it is suggested to read and store the images in an array in the \\_\\_init\\_\\_ function and return them in the \\_\\_getitem\\_\\_ function when they are requested by the DataLoader object."
      ]
    },
    {
      "cell_type": "code",
      "execution_count": 11,
      "metadata": {
        "id": "ongUJiujS_UE"
      },
      "outputs": [],
      "source": [
        "class CifarDataset(Dataset):\n",
        "    root_dir: str\n",
        "    images: list\n",
        "    transform: transforms.Compose\n",
        "    \n",
        "    def __init__(self, root_dir: str):\n",
        "        self.root_dir = root_dir\n",
        "        self.images = []\n",
        "        self.transform = transforms.Compose(\n",
        "            [\n",
        "                transforms.Resize((32, 32), Image.BICUBIC),\n",
        "                transforms.ToTensor(),\n",
        "                transforms.Normalize((0.5, 0.5, 0.5), (0.5, 0.5, 0.5)),\n",
        "            ]\n",
        "        )\n",
        "\n",
        "        for dir in os.listdir(self.root_dir):\n",
        "            subdirectory = os.path.join(self.root_dir, dir)\n",
        "            print(f\"Transforming images in {subdirectory}:\")\n",
        "            if os.path.isdir(subdirectory):\n",
        "                self.__transform_subdirectory(subdirectory)\n",
        "\n",
        "    def __transform_subdirectory(self, subdirectory: str):\n",
        "        \n",
        "        for file_name in os.listdir(subdirectory):\n",
        "            img_path = os.path.join(subdirectory, file_name)\n",
        "            with Image.open(img_path) as img:\n",
        "                self.images.append(self.transform(img))\n",
        "        \n",
        "        \n",
        "        \n",
        "    def __len__(self)->int:\n",
        "        return len(self.images)\n",
        "\n",
        "    def __getitem__(self, data_id):\n",
        "        return self.images[data_id]"
      ]
    },
    {
      "cell_type": "markdown",
      "metadata": {
        "id": "sqaS0ePeWzd3"
      },
      "source": [
        "Create a dataset and a data loader object for training and test splits. Set batch sizes to 64 and 512 for training and test data loaders, respectively. Enable shuffling in the training data loader and disable it in the test data loader."
      ]
    },
    {
      "cell_type": "code",
      "execution_count": 12,
      "metadata": {
        "id": "g-RUAYGdTuVn"
      },
      "outputs": [
        {
          "name": "stdout",
          "output_type": "stream",
          "text": [
            "Transforming images in cifar100/train\\apple:\n",
            "Transforming images in cifar100/train\\aquarium_fish:\n",
            "Transforming images in cifar100/train\\baby:\n",
            "Transforming images in cifar100/train\\bear:\n",
            "Transforming images in cifar100/train\\beaver:\n",
            "Transforming images in cifar100/train\\bed:\n",
            "Transforming images in cifar100/train\\bee:\n",
            "Transforming images in cifar100/train\\beetle:\n",
            "Transforming images in cifar100/train\\bicycle:\n",
            "Transforming images in cifar100/train\\bottle:\n",
            "Transforming images in cifar100/train\\bowl:\n",
            "Transforming images in cifar100/train\\boy:\n",
            "Transforming images in cifar100/train\\bridge:\n",
            "Transforming images in cifar100/train\\bus:\n",
            "Transforming images in cifar100/train\\butterfly:\n",
            "Transforming images in cifar100/train\\camel:\n",
            "Transforming images in cifar100/train\\can:\n",
            "Transforming images in cifar100/train\\castle:\n",
            "Transforming images in cifar100/train\\caterpillar:\n",
            "Transforming images in cifar100/train\\cattle:\n",
            "Transforming images in cifar100/train\\chair:\n",
            "Transforming images in cifar100/train\\chimpanzee:\n",
            "Transforming images in cifar100/train\\clock:\n",
            "Transforming images in cifar100/train\\cloud:\n",
            "Transforming images in cifar100/train\\cockroach:\n",
            "Transforming images in cifar100/train\\couch:\n",
            "Transforming images in cifar100/train\\crab:\n",
            "Transforming images in cifar100/train\\crocodile:\n",
            "Transforming images in cifar100/train\\cup:\n",
            "Transforming images in cifar100/train\\dinosaur:\n",
            "Transforming images in cifar100/train\\dolphin:\n",
            "Transforming images in cifar100/train\\elephant:\n",
            "Transforming images in cifar100/train\\flatfish:\n",
            "Transforming images in cifar100/train\\forest:\n",
            "Transforming images in cifar100/train\\fox:\n",
            "Transforming images in cifar100/train\\girl:\n",
            "Transforming images in cifar100/train\\hamster:\n",
            "Transforming images in cifar100/train\\house:\n",
            "Transforming images in cifar100/train\\kangaroo:\n",
            "Transforming images in cifar100/train\\keyboard:\n",
            "Transforming images in cifar100/train\\lamp:\n",
            "Transforming images in cifar100/train\\lawn_mower:\n",
            "Transforming images in cifar100/train\\leopard:\n",
            "Transforming images in cifar100/train\\lion:\n",
            "Transforming images in cifar100/train\\lizard:\n",
            "Transforming images in cifar100/train\\lobster:\n",
            "Transforming images in cifar100/train\\man:\n",
            "Transforming images in cifar100/train\\maple_tree:\n",
            "Transforming images in cifar100/train\\motorcycle:\n",
            "Transforming images in cifar100/train\\mountain:\n",
            "Transforming images in cifar100/train\\mouse:\n",
            "Transforming images in cifar100/train\\mushroom:\n",
            "Transforming images in cifar100/train\\oak_tree:\n",
            "Transforming images in cifar100/train\\orange:\n",
            "Transforming images in cifar100/train\\orchid:\n",
            "Transforming images in cifar100/train\\otter:\n",
            "Transforming images in cifar100/train\\palm_tree:\n",
            "Transforming images in cifar100/train\\pear:\n",
            "Transforming images in cifar100/train\\pickup_truck:\n",
            "Transforming images in cifar100/train\\pine_tree:\n",
            "Transforming images in cifar100/train\\plain:\n",
            "Transforming images in cifar100/train\\plate:\n",
            "Transforming images in cifar100/train\\poppy:\n",
            "Transforming images in cifar100/train\\porcupine:\n",
            "Transforming images in cifar100/train\\possum:\n",
            "Transforming images in cifar100/train\\rabbit:\n",
            "Transforming images in cifar100/train\\raccoon:\n",
            "Transforming images in cifar100/train\\ray:\n",
            "Transforming images in cifar100/train\\road:\n",
            "Transforming images in cifar100/train\\rocket:\n",
            "Transforming images in cifar100/train\\rose:\n",
            "Transforming images in cifar100/train\\sea:\n",
            "Transforming images in cifar100/train\\seal:\n",
            "Transforming images in cifar100/train\\shark:\n",
            "Transforming images in cifar100/train\\shrew:\n",
            "Transforming images in cifar100/train\\skunk:\n",
            "Transforming images in cifar100/train\\skyscraper:\n",
            "Transforming images in cifar100/train\\snail:\n",
            "Transforming images in cifar100/train\\snake:\n",
            "Transforming images in cifar100/train\\spider:\n",
            "Transforming images in cifar100/train\\squirrel:\n",
            "Transforming images in cifar100/train\\streetcar:\n",
            "Transforming images in cifar100/train\\sunflower:\n",
            "Transforming images in cifar100/train\\sweet_pepper:\n",
            "Transforming images in cifar100/train\\table:\n",
            "Transforming images in cifar100/train\\tank:\n",
            "Transforming images in cifar100/train\\telephone:\n",
            "Transforming images in cifar100/train\\television:\n",
            "Transforming images in cifar100/train\\tiger:\n",
            "Transforming images in cifar100/train\\tractor:\n",
            "Transforming images in cifar100/train\\train:\n",
            "Transforming images in cifar100/train\\trout:\n",
            "Transforming images in cifar100/train\\tulip:\n",
            "Transforming images in cifar100/train\\turtle:\n",
            "Transforming images in cifar100/train\\wardrobe:\n",
            "Transforming images in cifar100/train\\whale:\n",
            "Transforming images in cifar100/train\\willow_tree:\n",
            "Transforming images in cifar100/train\\wolf:\n",
            "Transforming images in cifar100/train\\woman:\n",
            "Transforming images in cifar100/train\\worm:\n",
            "Transforming images in cifar100/test\\apple:\n",
            "Transforming images in cifar100/test\\aquarium_fish:\n",
            "Transforming images in cifar100/test\\baby:\n",
            "Transforming images in cifar100/test\\bear:\n",
            "Transforming images in cifar100/test\\beaver:\n",
            "Transforming images in cifar100/test\\bed:\n",
            "Transforming images in cifar100/test\\bee:\n",
            "Transforming images in cifar100/test\\beetle:\n",
            "Transforming images in cifar100/test\\bicycle:\n",
            "Transforming images in cifar100/test\\bottle:\n",
            "Transforming images in cifar100/test\\bowl:\n",
            "Transforming images in cifar100/test\\boy:\n",
            "Transforming images in cifar100/test\\bridge:\n",
            "Transforming images in cifar100/test\\bus:\n",
            "Transforming images in cifar100/test\\butterfly:\n",
            "Transforming images in cifar100/test\\camel:\n",
            "Transforming images in cifar100/test\\can:\n",
            "Transforming images in cifar100/test\\castle:\n",
            "Transforming images in cifar100/test\\caterpillar:\n",
            "Transforming images in cifar100/test\\cattle:\n",
            "Transforming images in cifar100/test\\chair:\n",
            "Transforming images in cifar100/test\\chimpanzee:\n",
            "Transforming images in cifar100/test\\clock:\n",
            "Transforming images in cifar100/test\\cloud:\n",
            "Transforming images in cifar100/test\\cockroach:\n",
            "Transforming images in cifar100/test\\couch:\n",
            "Transforming images in cifar100/test\\crab:\n",
            "Transforming images in cifar100/test\\crocodile:\n",
            "Transforming images in cifar100/test\\cup:\n",
            "Transforming images in cifar100/test\\dinosaur:\n",
            "Transforming images in cifar100/test\\dolphin:\n",
            "Transforming images in cifar100/test\\elephant:\n",
            "Transforming images in cifar100/test\\flatfish:\n",
            "Transforming images in cifar100/test\\forest:\n",
            "Transforming images in cifar100/test\\fox:\n",
            "Transforming images in cifar100/test\\girl:\n",
            "Transforming images in cifar100/test\\hamster:\n",
            "Transforming images in cifar100/test\\house:\n",
            "Transforming images in cifar100/test\\kangaroo:\n",
            "Transforming images in cifar100/test\\keyboard:\n",
            "Transforming images in cifar100/test\\lamp:\n",
            "Transforming images in cifar100/test\\lawn_mower:\n",
            "Transforming images in cifar100/test\\leopard:\n",
            "Transforming images in cifar100/test\\lion:\n",
            "Transforming images in cifar100/test\\lizard:\n",
            "Transforming images in cifar100/test\\lobster:\n",
            "Transforming images in cifar100/test\\man:\n",
            "Transforming images in cifar100/test\\maple_tree:\n",
            "Transforming images in cifar100/test\\motorcycle:\n",
            "Transforming images in cifar100/test\\mountain:\n",
            "Transforming images in cifar100/test\\mouse:\n",
            "Transforming images in cifar100/test\\mushroom:\n",
            "Transforming images in cifar100/test\\oak_tree:\n",
            "Transforming images in cifar100/test\\orange:\n",
            "Transforming images in cifar100/test\\orchid:\n",
            "Transforming images in cifar100/test\\otter:\n",
            "Transforming images in cifar100/test\\palm_tree:\n",
            "Transforming images in cifar100/test\\pear:\n",
            "Transforming images in cifar100/test\\pickup_truck:\n",
            "Transforming images in cifar100/test\\pine_tree:\n",
            "Transforming images in cifar100/test\\plain:\n",
            "Transforming images in cifar100/test\\plate:\n",
            "Transforming images in cifar100/test\\poppy:\n",
            "Transforming images in cifar100/test\\porcupine:\n",
            "Transforming images in cifar100/test\\possum:\n",
            "Transforming images in cifar100/test\\rabbit:\n",
            "Transforming images in cifar100/test\\raccoon:\n",
            "Transforming images in cifar100/test\\ray:\n",
            "Transforming images in cifar100/test\\road:\n",
            "Transforming images in cifar100/test\\rocket:\n",
            "Transforming images in cifar100/test\\rose:\n",
            "Transforming images in cifar100/test\\sea:\n",
            "Transforming images in cifar100/test\\seal:\n",
            "Transforming images in cifar100/test\\shark:\n",
            "Transforming images in cifar100/test\\shrew:\n",
            "Transforming images in cifar100/test\\skunk:\n",
            "Transforming images in cifar100/test\\skyscraper:\n",
            "Transforming images in cifar100/test\\snail:\n",
            "Transforming images in cifar100/test\\snake:\n",
            "Transforming images in cifar100/test\\spider:\n",
            "Transforming images in cifar100/test\\squirrel:\n",
            "Transforming images in cifar100/test\\streetcar:\n",
            "Transforming images in cifar100/test\\sunflower:\n",
            "Transforming images in cifar100/test\\sweet_pepper:\n",
            "Transforming images in cifar100/test\\table:\n",
            "Transforming images in cifar100/test\\tank:\n",
            "Transforming images in cifar100/test\\telephone:\n",
            "Transforming images in cifar100/test\\television:\n",
            "Transforming images in cifar100/test\\tiger:\n",
            "Transforming images in cifar100/test\\tractor:\n",
            "Transforming images in cifar100/test\\train:\n",
            "Transforming images in cifar100/test\\trout:\n",
            "Transforming images in cifar100/test\\tulip:\n",
            "Transforming images in cifar100/test\\turtle:\n",
            "Transforming images in cifar100/test\\wardrobe:\n",
            "Transforming images in cifar100/test\\whale:\n",
            "Transforming images in cifar100/test\\willow_tree:\n",
            "Transforming images in cifar100/test\\wolf:\n",
            "Transforming images in cifar100/test\\woman:\n",
            "Transforming images in cifar100/test\\worm:\n"
          ]
        }
      ],
      "source": [
        "train_dataset = CifarDataset('cifar100/train')\n",
        "train_dataloader = DataLoader(train_dataset, shuffle=True, batch_size=64)\n",
        "\n",
        "test_dataset = CifarDataset('cifar100/test')\n",
        "test_dataloader = DataLoader(test_dataset,  shuffle=False, batch_size=512)"
      ]
    },
    {
      "cell_type": "markdown",
      "metadata": {
        "id": "XqYREQNbpQeR"
      },
      "source": [
        "**Do not change** the below code. If your implementation is correct, you should be seeing a grid of CIFAR-100 images properly."
      ]
    },
    {
      "cell_type": "code",
      "execution_count": 18,
      "metadata": {
        "id": "ZnVU_VccT-Yi"
      },
      "outputs": [
        {
          "data": {
            "image/png": "[encoded data removed]",
            "text/plain": [
              "<Figure size 640x480 with 1 Axes>"
            ]
          },
          "metadata": {},
          "output_type": "display_data"
        }
      ],
      "source": [
        "## Uncomment the cell when the dataloader is ready\n",
        "\n",
        "images = next(iter(train_dataloader)) # Taking one batch from the dataloader\n",
        "images = (images + 1) / 2\n",
        "grid_img = torchvision.utils.make_grid(images[:20], nrow=10)\n",
        "plt.axis('off')\n",
        "plt.imshow(grid_img.permute(1, 2, 0))\n",
        "plt.show()"
      ]
    },
    {
      "cell_type": "markdown",
      "metadata": {
        "id": "Qx_XrpE44TlW"
      },
      "source": [
        "### **Constructing Convolutional Autoencoder Network [35 Points]**"
      ]
    },
    {
      "cell_type": "markdown",
      "metadata": {
        "id": "EC8HgZSPmUhS"
      },
      "source": [
        "Autoencoder networks learn how to compress and reconstruct input data. It consists of two networks called the encoder and the decoder. The encoder network compresses the input data, and the decoder network regenerates the data from its compressed version. In this part, you are requested to implement an autoencoder model using convolutional layers. The architecture of the convolutional autoencoder is shown in the below figure."
      ]
    },
    {
      "cell_type": "markdown",
      "metadata": {
        "id": "lw4yXKnke3M_"
      },
      "source": [
        "![Convolutional Autoencoder Architecture](https://drive.google.com/uc?export=view&id=19RqHo2PatyoFl7om8OUxBRb1uYAVGmhF)\n",
        "\n",
        "The (in_channel, out_channel) pairs of the layers should be defined as follows:\n",
        "\n",
        "**Encoder:**\n",
        "- (3, 16)\n",
        "- (16, 32)\n",
        "- (32, 64)\n",
        "\n",
        "**Decoder:**\n",
        "- (64, 32)\n",
        "- (32, 16)\n",
        "- (16, 3)\n",
        "\n",
        "You are free to choose the kernel and padding sizes of the layers. In each layer, [2D batch normalization](https://pytorch.org/docs/stable/generated/torch.nn.BatchNorm2d.html) should be applied and the resulting values should be passed through a LeakyReLU layer with slope 0.2, which is the activation function. Since the image pixel value range is set to [-1,1] in the dataset, the outputs should be bounded so. Therefore, you should be using a Tanh activation function in the last layer instead of the normalization and LeakyReLU layers.\n",
        "\n",
        "In the encoder part of the network, use max pooling in each layer for decreasing the resolution by half. The stride size should be set to one for the convolution layers. In the decoder network, use [transposed convolution](https://pytorch.org/docs/stable/generated/torch.nn.ConvTranspose2d.html) (deconvolution) layers with stride two for increasing the resolution back."
      ]
    },
    {
      "cell_type": "code",
      "execution_count": 29,
      "metadata": {
        "id": "LHSbmwvcUMn6"
      },
      "outputs": [],
      "source": [
        "class CifarAutoencoder(nn.Module):\n",
        "\n",
        "    def __init__(self):\n",
        "        super(CifarAutoencoder, self).__init__()\n",
        "        \n",
        "        self.encoder = nn.Sequential(\n",
        "            nn.Conv2d(3, 16, kernel_size=3, stride=1, padding=1),\n",
        "            nn.BatchNorm2d(16),\n",
        "            nn.LeakyReLU(0.2),\n",
        "            nn.MaxPool2d(2, 2),\n",
        "            nn.Conv2d(16, 32, kernel_size=3, stride=1, padding=1),\n",
        "            nn.BatchNorm2d(32),\n",
        "            nn.LeakyReLU(0.2),\n",
        "            nn.MaxPool2d(2, 2),\n",
        "            nn.Conv2d(32, 64, kernel_size=3, stride=1, padding=1),\n",
        "            nn.BatchNorm2d(64),\n",
        "            nn.LeakyReLU(0.2),\n",
        "            nn.MaxPool2d(2, 2),\n",
        "        )\n",
        "\n",
        "        self.decoder = nn.Sequential(\n",
        "            nn.ConvTranspose2d(64, 32, kernel_size=2, stride=2),\n",
        "            nn.BatchNorm2d(32),\n",
        "            nn.LeakyReLU(0.2),\n",
        "            nn.ConvTranspose2d(32, 16, kernel_size=2, stride=2),\n",
        "            nn.BatchNorm2d(16),\n",
        "            nn.LeakyReLU(0.2),\n",
        "            nn.ConvTranspose2d(16, 3, kernel_size=2, stride=2),\n",
        "            nn.Tanh(),\n",
        "        )\n",
        "\n",
        "\n",
        "def forward(self, x):\n",
        "    x = self.encoder(x)\n",
        "    x = self.decoder(x)\n",
        "    return x"
      ]
    },
    {
      "cell_type": "markdown",
      "metadata": {
        "id": "9YwxmMCrWjtb"
      },
      "source": [
        "### **Implementing the Training Loop [15 Points]**"
      ]
    },
    {
      "cell_type": "markdown",
      "metadata": {
        "id": "6xMSf3sofmJz"
      },
      "source": [
        "Define your training loop in this function. In the following parts, this function will be called to train the convolutional autoencoder. The input arguments are provided below. Apply the training progress and return a list of losses that are calculated on each epoch. You should sum the iteration losses up during an epoch and take the mean of them to calculate the running loss of that epoch.\n",
        "\n",
        "To be able to learn inpainting, you should mask the input images as follows:\n",
        "\n",
        "![CIFAR Masking](https://drive.google.com/uc?export=view&id=1tlB0mNH4B5dKfokoe162qWgXgPDnOQi2)\n",
        "\n",
        "Simply, you should set the input tensor columns starting from 16 to 32 as -1 (black pixel). For the loss function, you should use the original image as the ground truth image so that the network learns how to fill the masked area of the input image and output the restored image. Before assigning the black pixels, do not forget to clone the original image to use it later in the loss function."
      ]
    },
    {
      "cell_type": "code",
      "execution_count": 22,
      "metadata": {
        "id": "cifEP9HEWQde"
      },
      "outputs": [],
      "source": [
        "def train_model(model, train_dataloader, optimizer, loss_func, num_epochs):\n",
        "    model.train()\n",
        "    losses = []\n",
        "\n",
        "    for epoch in range(num_epochs):\n",
        "        if epoch % 10 == 0:\n",
        "            print(f\"Epoch {epoch}/{num_epochs}\")\n",
        "            \n",
        "        running_loss = 0.0\n",
        "        for i, data in enumerate(train_dataloader, 0):\n",
        "            inputs = data.clone()\n",
        "            inputs[:, :, :, 16:32] = -1.0\n",
        "            outputs = model(inputs)\n",
        "\n",
        "            loss = loss_func(outputs, data)\n",
        "            optimizer.zero_grad()\n",
        "            loss.backward()\n",
        "            optimizer.step()\n",
        "\n",
        "            running_loss += loss.item()\n",
        "\n",
        "        epoch_loss = running_loss / len(train_dataloader)\n",
        "        losses.append(epoch_loss)\n",
        "\n",
        "    return losses"
      ]
    },
    {
      "cell_type": "markdown",
      "metadata": {
        "id": "ms6LRikETyds"
      },
      "source": [
        "### **Implementing the Evaluation Function [15 Points]**"
      ]
    },
    {
      "cell_type": "markdown",
      "metadata": {
        "id": "3XTr6dpe-0NN"
      },
      "source": [
        "Implement an evaluation function that returns the mean MSE calculated over the test dataset samples."
      ]
    },
    {
      "cell_type": "code",
      "execution_count": 24,
      "metadata": {
        "id": "JW-RK7vDT3l9"
      },
      "outputs": [],
      "source": [
        "def evaluate_model(model, test_dataloader: DataLoader, loss_func: function):\n",
        "    model.eval()\n",
        "    total_mse = 0.0\n",
        "\n",
        "    with torch.no_grad():\n",
        "        for data in test_dataloader:\n",
        "            inputs = data.clone()\n",
        "            inputs[:, :, :, 16:32] = -1.0\n",
        "            outputs = model(inputs)\n",
        "\n",
        "            mse = loss_func(outputs, data)\n",
        "            total_mse += mse.item()\n",
        "\n",
        "    mean_mse = total_mse / len(test_dataloader)\n",
        "    return mean_mse"
      ]
    },
    {
      "cell_type": "markdown",
      "metadata": {
        "id": "UjkRLMF0ZCtk"
      },
      "source": [
        "### **Inpainting Visualization Function**"
      ]
    },
    {
      "cell_type": "markdown",
      "metadata": {
        "id": "hI4ZNkVq_onm"
      },
      "source": [
        "The below code will be used to visualize the outputs of the trained models later. **Do not change the codes in the cell**."
      ]
    },
    {
      "cell_type": "code",
      "execution_count": 25,
      "metadata": {
        "id": "VAuNmuIelqzI"
      },
      "outputs": [],
      "source": [
        "def visualize_inpainting(model, dataset):\n",
        "    seed_everything(464)\n",
        "    dataloader = DataLoader(dataset, batch_size=10, shuffle=True)\n",
        "    images = next(iter(dataloader)) # Taking one batch from the dataloader\n",
        "    images = images\n",
        "    model.eval()\n",
        "    with torch.no_grad():\n",
        "      masked_images = images.clone()\n",
        "      masked_images[:,:,:,16:] = -1\n",
        "      inpainted_images = model(masked_images.cuda()).cpu()\n",
        "    images = (images + 1) / 2\n",
        "    masked_images = (masked_images + 1) / 2\n",
        "    inpainted_images = (inpainted_images + 1) / 2\n",
        "    images_concat = torch.cat((images, masked_images, inpainted_images), dim=2)\n",
        "    grid_img = torchvision.utils.make_grid(images_concat, nrow=10)\n",
        "    plt.axis('off')\n",
        "    plt.imshow(grid_img.permute(1, 2, 0))\n",
        "    plt.show()"
      ]
    },
    {
      "cell_type": "markdown",
      "metadata": {
        "id": "0JOGHIOakmL-"
      },
      "source": [
        "### **Training and Evaluating the Model [10 Points]**"
      ]
    },
    {
      "cell_type": "markdown",
      "metadata": {
        "id": "lYdoryMh_9HN"
      },
      "source": [
        "Define your loss function as MSE, set learning rate to 2e-4, create Adam optimizer, and set number of epochs to 50. Later, call the train_model function that you implemented. Visualize the returned losses on a plot (loss vs. epoch). Lastly, call evaluate_model function that you implemented and print the mean square error that your model reached on the test dataset. Also, call the visualize_inpainting function to observe the final inpainting results on the test dataset.\n",
        "\n"
      ]
    },
    {
      "cell_type": "code",
      "execution_count": 30,
      "metadata": {
        "id": "8JhkdYbwiw0s"
      },
      "outputs": [
        {
          "name": "stdout",
          "output_type": "stream",
          "text": [
            "Epoch 0/50\n"
          ]
        },
        {
          "ename": "NotImplementedError",
          "evalue": "Module [CifarAutoencoder] is missing the required \"forward\" function",
          "output_type": "error",
          "traceback": [
            "\u001b[1;31m---------------------------------------------------------------------------\u001b[0m",
            "\u001b[1;31mNotImplementedError\u001b[0m                       Traceback (most recent call last)",
            "Cell \u001b[1;32mIn[30], line 17\u001b[0m\n\u001b[0;32m     14\u001b[0m optimizer \u001b[38;5;241m=\u001b[39m optim\u001b[38;5;241m.\u001b[39mAdam(model\u001b[38;5;241m.\u001b[39mparameters(), lr\u001b[38;5;241m=\u001b[39mlearning_rate)\n\u001b[0;32m     16\u001b[0m \u001b[38;5;66;03m# Train the model\u001b[39;00m\n\u001b[1;32m---> 17\u001b[0m losses \u001b[38;5;241m=\u001b[39m \u001b[43mtrain_model\u001b[49m\u001b[43m(\u001b[49m\u001b[43mmodel\u001b[49m\u001b[43m,\u001b[49m\u001b[43m \u001b[49m\u001b[43mtrain_dataloader\u001b[49m\u001b[43m,\u001b[49m\u001b[43m \u001b[49m\u001b[43moptimizer\u001b[49m\u001b[43m,\u001b[49m\u001b[43m \u001b[49m\u001b[43mloss_func\u001b[49m\u001b[43m,\u001b[49m\u001b[43m \u001b[49m\u001b[43mepoch_count\u001b[49m\u001b[43m)\u001b[49m\n",
            "Cell \u001b[1;32mIn[22], line 13\u001b[0m, in \u001b[0;36mtrain_model\u001b[1;34m(model, train_dataloader, optimizer, loss_func, num_epochs)\u001b[0m\n\u001b[0;32m     11\u001b[0m inputs \u001b[38;5;241m=\u001b[39m data\u001b[38;5;241m.\u001b[39mclone()\n\u001b[0;32m     12\u001b[0m inputs[:, :, :, \u001b[38;5;241m16\u001b[39m:\u001b[38;5;241m32\u001b[39m] \u001b[38;5;241m=\u001b[39m \u001b[38;5;241m-\u001b[39m\u001b[38;5;241m1.0\u001b[39m\n\u001b[1;32m---> 13\u001b[0m outputs \u001b[38;5;241m=\u001b[39m \u001b[43mmodel\u001b[49m\u001b[43m(\u001b[49m\u001b[43minputs\u001b[49m\u001b[43m)\u001b[49m\n\u001b[0;32m     15\u001b[0m loss \u001b[38;5;241m=\u001b[39m loss_func(outputs, data)\n\u001b[0;32m     16\u001b[0m optimizer\u001b[38;5;241m.\u001b[39mzero_grad()\n",
            "File \u001b[1;32me:\\Bilkent\\2023-2024\\cs464\\cs464_hw3\\venv\\Lib\\site-packages\\torch\\nn\\modules\\module.py:1518\u001b[0m, in \u001b[0;36mModule._wrapped_call_impl\u001b[1;34m(self, *args, **kwargs)\u001b[0m\n\u001b[0;32m   1516\u001b[0m     \u001b[38;5;28;01mreturn\u001b[39;00m \u001b[38;5;28mself\u001b[39m\u001b[38;5;241m.\u001b[39m_compiled_call_impl(\u001b[38;5;241m*\u001b[39margs, \u001b[38;5;241m*\u001b[39m\u001b[38;5;241m*\u001b[39mkwargs)  \u001b[38;5;66;03m# type: ignore[misc]\u001b[39;00m\n\u001b[0;32m   1517\u001b[0m \u001b[38;5;28;01melse\u001b[39;00m:\n\u001b[1;32m-> 1518\u001b[0m     \u001b[38;5;28;01mreturn\u001b[39;00m \u001b[38;5;28;43mself\u001b[39;49m\u001b[38;5;241;43m.\u001b[39;49m\u001b[43m_call_impl\u001b[49m\u001b[43m(\u001b[49m\u001b[38;5;241;43m*\u001b[39;49m\u001b[43margs\u001b[49m\u001b[43m,\u001b[49m\u001b[43m \u001b[49m\u001b[38;5;241;43m*\u001b[39;49m\u001b[38;5;241;43m*\u001b[39;49m\u001b[43mkwargs\u001b[49m\u001b[43m)\u001b[49m\n",
            "File \u001b[1;32me:\\Bilkent\\2023-2024\\cs464\\cs464_hw3\\venv\\Lib\\site-packages\\torch\\nn\\modules\\module.py:1527\u001b[0m, in \u001b[0;36mModule._call_impl\u001b[1;34m(self, *args, **kwargs)\u001b[0m\n\u001b[0;32m   1522\u001b[0m \u001b[38;5;66;03m# If we don't have any hooks, we want to skip the rest of the logic in\u001b[39;00m\n\u001b[0;32m   1523\u001b[0m \u001b[38;5;66;03m# this function, and just call forward.\u001b[39;00m\n\u001b[0;32m   1524\u001b[0m \u001b[38;5;28;01mif\u001b[39;00m \u001b[38;5;129;01mnot\u001b[39;00m (\u001b[38;5;28mself\u001b[39m\u001b[38;5;241m.\u001b[39m_backward_hooks \u001b[38;5;129;01mor\u001b[39;00m \u001b[38;5;28mself\u001b[39m\u001b[38;5;241m.\u001b[39m_backward_pre_hooks \u001b[38;5;129;01mor\u001b[39;00m \u001b[38;5;28mself\u001b[39m\u001b[38;5;241m.\u001b[39m_forward_hooks \u001b[38;5;129;01mor\u001b[39;00m \u001b[38;5;28mself\u001b[39m\u001b[38;5;241m.\u001b[39m_forward_pre_hooks\n\u001b[0;32m   1525\u001b[0m         \u001b[38;5;129;01mor\u001b[39;00m _global_backward_pre_hooks \u001b[38;5;129;01mor\u001b[39;00m _global_backward_hooks\n\u001b[0;32m   1526\u001b[0m         \u001b[38;5;129;01mor\u001b[39;00m _global_forward_hooks \u001b[38;5;129;01mor\u001b[39;00m _global_forward_pre_hooks):\n\u001b[1;32m-> 1527\u001b[0m     \u001b[38;5;28;01mreturn\u001b[39;00m \u001b[43mforward_call\u001b[49m\u001b[43m(\u001b[49m\u001b[38;5;241;43m*\u001b[39;49m\u001b[43margs\u001b[49m\u001b[43m,\u001b[49m\u001b[43m \u001b[49m\u001b[38;5;241;43m*\u001b[39;49m\u001b[38;5;241;43m*\u001b[39;49m\u001b[43mkwargs\u001b[49m\u001b[43m)\u001b[49m\n\u001b[0;32m   1529\u001b[0m \u001b[38;5;28;01mtry\u001b[39;00m:\n\u001b[0;32m   1530\u001b[0m     result \u001b[38;5;241m=\u001b[39m \u001b[38;5;28;01mNone\u001b[39;00m\n",
            "File \u001b[1;32me:\\Bilkent\\2023-2024\\cs464\\cs464_hw3\\venv\\Lib\\site-packages\\torch\\nn\\modules\\module.py:372\u001b[0m, in \u001b[0;36m_forward_unimplemented\u001b[1;34m(self, *input)\u001b[0m\n\u001b[0;32m    361\u001b[0m \u001b[38;5;28;01mdef\u001b[39;00m \u001b[38;5;21m_forward_unimplemented\u001b[39m(\u001b[38;5;28mself\u001b[39m, \u001b[38;5;241m*\u001b[39m\u001b[38;5;28minput\u001b[39m: Any) \u001b[38;5;241m-\u001b[39m\u001b[38;5;241m>\u001b[39m \u001b[38;5;28;01mNone\u001b[39;00m:\n\u001b[0;32m    362\u001b[0m \u001b[38;5;250m    \u001b[39m\u001b[38;5;124mr\u001b[39m\u001b[38;5;124;03m\"\"\"Defines the computation performed at every call.\u001b[39;00m\n\u001b[0;32m    363\u001b[0m \n\u001b[0;32m    364\u001b[0m \u001b[38;5;124;03m    Should be overridden by all subclasses.\u001b[39;00m\n\u001b[1;32m   (...)\u001b[0m\n\u001b[0;32m    370\u001b[0m \u001b[38;5;124;03m        registered hooks while the latter silently ignores them.\u001b[39;00m\n\u001b[0;32m    371\u001b[0m \u001b[38;5;124;03m    \"\"\"\u001b[39;00m\n\u001b[1;32m--> 372\u001b[0m     \u001b[38;5;28;01mraise\u001b[39;00m \u001b[38;5;167;01mNotImplementedError\u001b[39;00m(\u001b[38;5;124mf\u001b[39m\u001b[38;5;124m\"\u001b[39m\u001b[38;5;124mModule [\u001b[39m\u001b[38;5;132;01m{\u001b[39;00m\u001b[38;5;28mtype\u001b[39m(\u001b[38;5;28mself\u001b[39m)\u001b[38;5;241m.\u001b[39m\u001b[38;5;18m__name__\u001b[39m\u001b[38;5;132;01m}\u001b[39;00m\u001b[38;5;124m] is missing the required \u001b[39m\u001b[38;5;130;01m\\\"\u001b[39;00m\u001b[38;5;124mforward\u001b[39m\u001b[38;5;130;01m\\\"\u001b[39;00m\u001b[38;5;124m function\u001b[39m\u001b[38;5;124m\"\u001b[39m)\n",
            "\u001b[1;31mNotImplementedError\u001b[0m: Module [CifarAutoencoder] is missing the required \"forward\" function"
          ]
        }
      ],
      "source": [
        "seed_everything(464)\n",
        "model = CifarAutoencoder()\n",
        "\n",
        "\n",
        "def mse_loss(input, target):\n",
        "    return torch.sum((input - target) ** 2) / input.data.nelement()\n",
        "\n",
        "\n",
        "\n",
        "epoch_count = 50\n",
        "learning_rate = 2e-4\n",
        "\n",
        "loss_func = mse_loss\n",
        "optimizer = optim.Adam(model.parameters(), lr=learning_rate)\n",
        "\n",
        "# Train the model\n",
        "losses = train_model(model, train_dataloader, optimizer, loss_func, epoch_count)"
      ]
    },
    {
      "cell_type": "code",
      "execution_count": null,
      "metadata": {
        "id": "IgiD1WG-ZRgf"
      },
      "outputs": [],
      "source": [
        "# visualize_inpainting(model, test_dataset) ## Uncomment when the model is trained"
      ]
    }
  ],
  "metadata": {
    "accelerator": "GPU",
    "colab": {
      "gpuType": "T4",
      "provenance": []
    },
    "gpuClass": "standard",
    "kernelspec": {
      "display_name": "Python 3 (ipykernel)",
      "language": "python",
      "name": "python3"
    },
    "language_info": {
      "codemirror_mode": {
        "name": "ipython",
        "version": 3
      },
      "file_extension": ".py",
      "mimetype": "text/x-python",
      "name": "python",
      "nbconvert_exporter": "python",
      "pygments_lexer": "ipython3",
      "version": "3.11.3"
    }
  },
  "nbformat": 4,
  "nbformat_minor": 0
}
